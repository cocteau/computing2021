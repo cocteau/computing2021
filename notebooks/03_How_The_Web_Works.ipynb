{
  "nbformat": 4,
  "nbformat_minor": 0,
  "metadata": {
    "kernelspec": {
      "display_name": "Python 3",
      "language": "python",
      "name": "python3"
    },
    "language_info": {
      "codemirror_mode": {
        "name": "ipython",
        "version": 3
      },
      "file_extension": ".py",
      "mimetype": "text/x-python",
      "name": "python",
      "nbconvert_exporter": "python",
      "pygments_lexer": "ipython3",
      "version": "3.7.3"
    },
    "colab": {
      "name": "03_How_The_Web_Works.ipynb",
      "provenance": [],
      "include_colab_link": true
    }
  },
  "cells": [
    {
      "cell_type": "markdown",
      "metadata": {
        "id": "view-in-github",
        "colab_type": "text"
      },
      "source": [
        "<a href=\"https://colab.research.google.com/github/cocteau/computing2021/blob/main/notebooks/03_How_The_Web_Works.ipynb\" target=\"_parent\"><img src=\"https://colab.research.google.com/assets/colab-badge.svg\" alt=\"Open In Colab\"/></a>"
      ]
    },
    {
      "cell_type": "markdown",
      "metadata": {
        "id": "ErzQ2EMVMYBi"
      },
      "source": [
        "\n",
        "# How The Web Works... and an Introduction to APIs\n",
        "<br>\n",
        "\n",
        "<img src=\"https://cdn-images-1.medium.com/max/1920/1*CWytxLBZtxrxekPofi0-RQ.png\" width=500>\n",
        "<br>\n",
        "\n",
        "Last time we jumped ahead quite a bit -- let's take a step back and learn about how the web works. Understanding some of the fundamentals about how information travels around the internet will help us a ton. And, the best place to start is by learning about HTTP, the Hypertext Transfer Protocol.\n",
        "\n",
        "## HTTP\n",
        "\n",
        "A simple protocol called [HTTP](https://en.wikipedia.org/wiki/Hypertext_Transfer_Protocol) powers most of the communications on the web, including your browser and probably most of the apps that you use. HTTP allows you (via your browser, a mobile app or even code you write!) to **request** data (HTML or a web page, PDFs, MP3s, JSON, CSVs, etc.) from a service across the internet (e.g. google.com, twitter.com) and that service will respond with the requested data (i.e. the **response**). \n",
        "\n",
        "Let's take a look at HTTP in more detail by looking at Mike Young's slides on \"How the Internet Works.\" You can find a PDF copy of the slides [here](https://github.com/cocteau/computing2021/raw/main/docs/HowTheInternetWorks.pdf)."
      ]
    },
    {
      "cell_type": "code",
      "metadata": {
        "id": "MlZQfITIRUeL"
      },
      "source": [
        "from IPython.display import YouTubeVideo\n",
        "YouTubeVideo('vuiBTJZfeo8')"
      ],
      "execution_count": null,
      "outputs": []
    },
    {
      "cell_type": "markdown",
      "metadata": {
        "id": "mhn4B182MYBn"
      },
      "source": [
        "### A Quick Overview of HTTP: Request and Response\n",
        "\n",
        "Here is the tl;dr on how a HTTP request works:\n",
        "\n",
        "1. A \"**client**\" (your browser, your Instagram app, or even some code that you are about to write) makes a **request** for data.\n",
        "\n",
        "2. The \"**request**\" is in the form of a [URL](https://en.wikipedia.org/wiki/URL) (Uniform Resource Locator -- a web address). The URL specifies the site you are requesting information from and the page/document/data you want. For example: https://nytimes.com/ is the URL for the New York Times and this URL https://www.nytimes.com/interactive/2021/05/28/climate/climate-wind-solar-energy-map.html specifies a given news story in the form of an HTML page.\n",
        "\n",
        "3. A \"**server**\" receives the request (e.g. a New York Times server, if you are requesting a nytimes.com URL) and then returns the page/document/data you asked for. This is the **response**. This response can be an HTML page, a PDF, some JSON or CSV data, etc.\n",
        "\n",
        "Simple!\n",
        "\n",
        "One important note: this type of request is called a \"**GET**\" request. There are other types of HTTP requests which we'll learn about later. (The main difference being in how you specify the data you want -- GET specifies the data you want in the URL of the request as we'll see below.) "
      ]
    },
    {
      "cell_type": "markdown",
      "metadata": {
        "id": "rK2qLLW1MYBo"
      },
      "source": [
        "### Anatomy of a URL\n",
        "\n",
        "The [URL](https://en.wikipedia.org/wiki/URL), or Uniform Resource Locator, or \"web address,\" contains a variety of important information about data that we are requesting. Here are the various fields in a URL:\n",
        "\n",
        "<img src=\"https://camo.githubusercontent.com/43bd353c3d0879547481da33bba7d15768bdf4bb/68747470733a2f2f7261772e6769746875622e636f6d2f41544c2d5744492d437572726963756c756d2f686f772d7468652d696e7465726e65742d776f726b732f6d61737465722f696d616765732f616e61746f6d792d75726c2e706e67\" width=500>\n"
      ]
    },
    {
      "cell_type": "markdown",
      "metadata": {
        "id": "l1H_OP62MYBo"
      },
      "source": [
        "### What Kind of Data is on the Other End of a Request?\n",
        "\n",
        "The data you find in a web page (HTML) or PDF document is meant to be read as you would read the page of a book. But in this class, we'll learn that that kind of reading is labor-intensive. We want a computer to read for us instead -- to take in the data and create something new. This means we want other formats, which lead us to CSV, JSON and XML.\n",
        "\n",
        "\n",
        "[State of the Union, and specifically recent TV Ratings (**HTML**)](https://en.wikipedia.org/wiki/State_of_the_Union):<br> \n",
        "[`https://en.wikipedia.org/wiki/State_of_the_Union`](https://en.wikipedia.org/wiki/State_of_the_Union)\n",
        "\n",
        "[NOAA Daily Weather Records (**HTML**)](https://www.ncdc.noaa.gov/cdo-web/datatools/records):\n",
        "<br>\n",
        "[`https://www.ncdc.noaa.gov/cdo-web/datatools/records`](https://www.ncdc.noaa.gov/cdo-web/datatools/records)\n",
        "\n",
        "[National School Lunch Program Participation (**PDF**)](https://fns-prod.azureedge.net/sites/default/files/resource-files/01slfypart-5.pdf):\n",
        "<br>\n",
        "[`https://fns-prod.azureedge.net/sites/default/files/resource-files/01slfypart-5.pdf`](https://fns-prod.azureedge.net/sites/default/files/resource-files/01slfypart-5.pdf)\n",
        "\n",
        "[FDNY Monthly Response Times (**CSV**)](https://data.cityofnewyork.us/Social-Services/FDNY-Monthly-Response-Times/j34j-vqvt):\n",
        "<br>\n",
        "[`https://data.cityofnewyork.us/api/views/j34j-vqvt/rows.csv`](https://data.cityofnewyork.us/api/views/j34j-vqvt/rows.csv)\n",
        "\n",
        "[FDNY Monthly Response Times (**JSON**)](https://data.cityofnewyork.us/Social-Services/FDNY-Monthly-Response-Times/j34j-vqvt):\n",
        "<br>\n",
        "[`https://data.cityofnewyork.us/resource/6b8a-2fci.json`](https://data.cityofnewyork.us/resource/6b8a-2fci.json)\n"
      ]
    },
    {
      "cell_type": "markdown",
      "metadata": {
        "id": "klwuuVE-MYBp"
      },
      "source": [
        "## Enough About URLs! Let's Write Some Code\n",
        "\n",
        "Ok, time for us to write some code to make out own HTTP requests. There are many python libraries which handle all of the fun of HTTP for us - we'll use one simply called [`requests`](http://docs.python-requests.org/en/master/).\n",
        "\n",
        "(If you were not using Colab, you would have to install the `requests` Python library. To do so you would run the following cell. The `!` sign indicates that the code in the cell is to be interpreted as something other than Python commands. In this case, we are giving instructions to the UNIX shell.)"
      ]
    },
    {
      "cell_type": "code",
      "metadata": {
        "id": "SkLtjMlNMYBq"
      },
      "source": [
        "!pip install requests"
      ],
      "execution_count": null,
      "outputs": []
    },
    {
      "cell_type": "markdown",
      "metadata": {
        "id": "N0P7wHUSMYBr"
      },
      "source": [
        "In the code below, we will make an HTTP request to `https://nytimes.com`. This is what our browser does when we type nytimes.com into our browser bar."
      ]
    },
    {
      "cell_type": "code",
      "metadata": {
        "id": "QVUyMBVoMYBr"
      },
      "source": [
        "from requests import get\n",
        "\n",
        "# Specify the location of the information you want as a string\n",
        "\n",
        "url = 'https://nytimes.com'\n",
        "\n",
        "# Then fetch the data (the resource) at that address using get() from\n",
        "# the \"requests\" package\n",
        "\n",
        "response = get(url)"
      ],
      "execution_count": null,
      "outputs": []
    },
    {
      "cell_type": "markdown",
      "metadata": {
        "id": "uAL2qZ6BMYBs"
      },
      "source": [
        "So what is `response`? Remember that we can inspect the object to see what type it is?"
      ]
    },
    {
      "cell_type": "code",
      "metadata": {
        "id": "T4hK-7SyMYBs"
      },
      "source": [
        "print(type(response))"
      ],
      "execution_count": null,
      "outputs": []
    },
    {
      "cell_type": "markdown",
      "metadata": {
        "id": "JwmW1k7CMYBs"
      },
      "source": [
        "I'm not sure how much that helps us so let's jump over to the [`requests` library documentation](https://requests.readthedocs.io/en/master/) to see how we use this library. In particular, we can look at the [Response documentation](https://2.python-requests.org/en/master/api/#requests.Response)"
      ]
    },
    {
      "cell_type": "code",
      "metadata": {
        "id": "lTp2qPuwMYBt"
      },
      "source": [
        "# print out the HTTP status code\n",
        "print(response.status_code)"
      ],
      "execution_count": null,
      "outputs": []
    },
    {
      "cell_type": "markdown",
      "metadata": {
        "id": "RDjjFVt5MYBt"
      },
      "source": [
        "There are a lot of possible [HTTP status codes](https://en.wikipedia.org/wiki/List_of_HTTP_status_codes) that the nytimes.com server might return, but we're hoping for a `200` here (which means \"success!\")."
      ]
    },
    {
      "cell_type": "code",
      "metadata": {
        "id": "Ev1vzvsqMYBt"
      },
      "source": [
        "# we can also print out the \"headers\" sent back by nytimes.com\n",
        "# the information in the response headers are data sent from\n",
        "# nytimes.com and it contains information about the page we just requested\n",
        "# take a look - anything interesting to see in there?\n",
        "print(response.headers)"
      ],
      "execution_count": null,
      "outputs": []
    },
    {
      "cell_type": "markdown",
      "metadata": {
        "id": "nUstIXrsMYBt"
      },
      "source": [
        "Again, the \"headers\" contain information sent to us along side the page that we've requested (in this case, the nytimes.com homepage). The headers will have information about the page we just requested. Looking at output in the cell above, can you tell the type of python object? Hint: it rhymes with pict :-)\n",
        "\n",
        "Now you - since `response.headers` is a dictionary, how would you find the \"Content-Length\" value? Content-Length is the nytimes.com server telling us how many bytes they've sent us."
      ]
    },
    {
      "cell_type": "code",
      "metadata": {
        "id": "HRcwGc9UMYBu"
      },
      "source": [
        "# put your code here:\n",
        "\n",
        "\n",
        "float(response.headers[\"Content-Length\"])"
      ],
      "execution_count": null,
      "outputs": []
    },
    {
      "cell_type": "code",
      "metadata": {
        "id": "qiaYOHW9Kt9P"
      },
      "source": [
        "print(12,\"hi\")\n"
      ],
      "execution_count": null,
      "outputs": []
    },
    {
      "cell_type": "code",
      "metadata": {
        "id": "MT5itlWcMYBu"
      },
      "source": [
        "\n",
        "\n",
        "\n",
        "\n",
        "\n",
        "# best of all, we can see the page we've requested using the following code\n",
        "# this is the nytimes.com homepage HTML\n",
        "print(response.text)"
      ],
      "execution_count": null,
      "outputs": []
    },
    {
      "cell_type": "markdown",
      "metadata": {
        "id": "QFugnjesMYBv"
      },
      "source": [
        "**NOTE**: This is the same as opening the URL in Chrome and selecting `View ➡️ Developer ➡️ View Source`"
      ]
    },
    {
      "cell_type": "markdown",
      "metadata": {
        "id": "1FoCyfnIMYBw"
      },
      "source": [
        "### A Quick Exercise\n",
        "\n",
        "Write some code in the box below to make an HTTP request to NPR's homepage (npr.org). After you make the request, print the homepage HTML. Ready? Go!"
      ]
    },
    {
      "cell_type": "code",
      "metadata": {
        "id": "pzxaVmiWMYBx"
      },
      "source": [
        "# put your code here:\n",
        "\n",
        "\n"
      ],
      "execution_count": null,
      "outputs": []
    },
    {
      "cell_type": "markdown",
      "metadata": {
        "id": "HkcZVYF3MYBx"
      },
      "source": [
        "**Follow-up Question**: Have a look at the HTML page. Some of you will have had experience writing or reading HTML (which hopefully makes you appreciate Markdown). You see `tags` that are used to structure the information on the page. You might see headers `<h1>` say, or paragraphs `<p>` or anchor tags (links) `<a>`. \n",
        "\n",
        "Now, try to find all the headlines on the page. Do they have special tags? Is there other information in the tags that indicate the content is a headline? When we surf the web making requests from Python, we have to learn to *parse* HTML pages and figure out how to pull out the information we are interested in. You might be interested in NPR headlines, for example. You might be interested in only the *Opinion* stories. So, looking at the NPR homepage HTML, what patterns do you notice?\n",
        "\n",
        "Code which fetches a page, like the NYTimes or NPR, and parses out the headlines is an example of \"web scraping.\"\n",
        "\n",
        "This isn't to say that it's all difficult. There is one kind of tag that is especially easy to work with. It's the `<table>` tag. It, well, creates a table. Have a look at the [Wikipedia page about the State of the Union Address](https://en.wikipedia.org/wiki/State_of_the_Union). It has a table of TV Ratings. Just so we have another reason to think about Pandas, we can pull that table into a DataFrame and start to work with it. We have seen `read_csv()` for FBI data in homework, but now we'll try `read_html()` for a `<table>` on a web page."
      ]
    },
    {
      "cell_type": "code",
      "metadata": {
        "id": "Ctp9DpnJMYBz"
      },
      "source": [
        "from pandas import read_html\n",
        "\n",
        "wiki_sotu = read_html(\"https://en.wikipedia.org/wiki/State_of_the_Union\")\n",
        "print(type(wiki_sotu))"
      ],
      "execution_count": null,
      "outputs": []
    },
    {
      "cell_type": "markdown",
      "metadata": {
        "id": "kwMIKxxeMYBz"
      },
      "source": [
        "We have a list! One element per table on the page. Use the `View ➡️ Developer ➡️ View Source` to see that there are other `<table>` tags floating around to structure the different parts of the page. How many objects in the list?"
      ]
    },
    {
      "cell_type": "code",
      "metadata": {
        "id": "bQnINSE7MYBz"
      },
      "source": [
        "print(len(wiki_sotu))"
      ],
      "execution_count": null,
      "outputs": []
    },
    {
      "cell_type": "markdown",
      "metadata": {
        "id": "tCpj8uZKMYBz"
      },
      "source": [
        "Write some code to pull out the first table..."
      ]
    },
    {
      "cell_type": "code",
      "metadata": {
        "id": "LWzN8OXoMYB0"
      },
      "source": [
        "# Your code here\n",
        "\n",
        "wiki_sotu[1]"
      ],
      "execution_count": null,
      "outputs": []
    },
    {
      "cell_type": "markdown",
      "metadata": {
        "id": "PNvzuCY0MYB0"
      },
      "source": [
        "... now the second..."
      ]
    },
    {
      "cell_type": "code",
      "metadata": {
        "id": "shfgX_mYMYB0"
      },
      "source": [
        "# Your code here\n",
        "\n"
      ],
      "execution_count": null,
      "outputs": []
    },
    {
      "cell_type": "code",
      "metadata": {
        "id": "OE7LzXM_MYB1"
      },
      "source": [
        "# Pull out the second that has the TV ratings, call the DataFrame \"ratings\"\n",
        "ratings = wiki_sotu[1]\n",
        "\n",
        "# And then have a look!\n",
        "ratings"
      ],
      "execution_count": null,
      "outputs": []
    },
    {
      "cell_type": "markdown",
      "metadata": {
        "id": "fRTAzD2QMYB1"
      },
      "source": [
        "While it's a little \"mean\"ingless, take the average of the total viewers column."
      ]
    },
    {
      "cell_type": "code",
      "metadata": {
        "id": "Aclr6mUtMYB1"
      },
      "source": [
        "ratings[\"Viewers, millions\"].mean()"
      ],
      "execution_count": null,
      "outputs": []
    },
    {
      "cell_type": "markdown",
      "metadata": {
        "id": "8GXJspsXMYB1"
      },
      "source": [
        "When someone puts the data you want on a web page, putting it in a table is a huge advantage. It is probably the closest thing that you can get to \"publishing data\" on a web page. There are still issues, like figuring out which table on the page or if everything is formatted properly, but it can be pretty easy. \n",
        "\n",
        "There is a lot more to learn about HTTP and \"web scraping\" but we'll pick that up in future lessons. For now, let's move on to APIs! With an API we get data, honest to goodness data, and not some piece of a document made to look sorta like data.\n",
        "\n",
        "## What's an API?\n",
        "\n",
        "An API, or application programming interface, allows you to specify the data you want and returns it in a computer-friendly format like [JSON](https://www.json.org/) or [XML](https://en.wikipedia.org/wiki/XML) rather than HTML. The \"interface\" is a regularized way to make requests, and a consistent specification for the data you asked for. So many organizations now publish APIs for their data. From [The New York Times](https://developer.nytimes.com/) to [ProPublica](https://propublica.github.io/campaign-finance-api-docs/), to governmental organizations like the ~~[EPA](https://developer.epa.gov/category/api/)~~, to social media sites like [Twitter](https://developer.twitter.com/en/docs) and [Instagram](https://developers.facebook.com/products/instagram/) and [LinkedIn](https://developer.linkedin.com).\n",
        "\n",
        "**The idea of an API is quite old,** and in fact APIs exist throughout the operating system in your computer. There is an API that lets different applications on your computer access printing capabilities, or communicate via your wireless hardware. These APIs, again, provide application developers with a regularized way to access services. So Word's print screen looks like the print screen from your PDF previewer or even Photoshop.\n",
        "\n",
        "**Then in time, the services that were being advertised moved from your computer to the web.** So-called \"mashups\" came on the scene that let you feed data from one service into another. To put this in a vague historical perspective, if Web 1.0 meant putting your content online, then Web 2.0 was about cooperation between sites, sharing data via the internet to build new services. \n",
        "\n",
        "Salesforce.com led the way with its API in 2000 (I believe), recognizing that customers needed the same data across different platforms. Ebay followed, providing an API so that others could embed their data and services. Personally, it was the Google Maps' API that really drove the idea home. It appeared in 2006 and immediately spawned a number of mapping mashups. You can read about the history of APIs from [a services perspective](https://history.apievangelist.com/), [as evolution of the mashup](https://www.ibm.com/developerworks/library/x-mashups/index.html), or as [a technical innovation](http://www.openlegacy.com/blog/the-history-of-apis-and-how-they-impact-your-future), eventually leading back to a [PhD thesis in 2000 by Roy Fieldings](http://www.ics.uci.edu/~fielding/pubs/dissertation/top.htm) laying out the whole scheme. \n",
        "\n",
        "Today there are so many APIs it's hard to keep track. Look at the growth, captured by the ProgrammableWeb site.\n",
        "\n",
        "<img src=\"https://www.programmableweb.com/sites/default/files/2019-06-total-apis-since-2005.png\" width=500>\n",
        "\n",
        "The [ProgrammableWeb](https://www.programmableweb.com/) tries to document the latest APIs. They have a [report on API growth](https://www.programmableweb.com/news/apis-show-faster-growth-rate-2019-previous-years/research/2019/07/17) that includes a table!"
      ]
    },
    {
      "cell_type": "code",
      "metadata": {
        "id": "qgifg2vvMYB2"
      },
      "source": [
        "api_tables = read_html(\"https://www.programmableweb.com/news/apis-show-faster-growth-rate-2019-previous-years/research/2019/07/17\")\n",
        "api_tables[0]"
      ],
      "execution_count": null,
      "outputs": []
    },
    {
      "cell_type": "markdown",
      "metadata": {
        "id": "_INB_0utMYB2"
      },
      "source": [
        "OK now we're just showing off. \n",
        "\n",
        "**Google's autocomplete**. Let's start our API fun by looking at the API that powers Google's auto-complete/suggest feature. Everytime you start typing something into your Chrome browser or the Google search box, it will make suggestions for you. That's all negotiated by API. You can [read about it here](https://shreyaschand.com/blog/2013/01/03/google-autocomplete-api/). Notice that this is an \"unpublished\" API in that its specifics are not documented by Google. \n",
        "\n",
        "Here is how you'd access that programmatically (that is, with Python and not with a browser)."
      ]
    },
    {
      "cell_type": "code",
      "metadata": {
        "id": "AICUHm7SMYB2"
      },
      "source": [
        "# make a request -- here it is like we've typed \"donald trump is\"\n",
        "url = \"http://suggestqueries.google.com/complete/search?client=firefox&q=abortion is\"\n",
        "response = get(url)\n",
        "\n",
        "# print out the response we get -- we aren't print()ing it so you can see it's a string\n",
        "response.json()"
      ],
      "execution_count": null,
      "outputs": []
    },
    {
      "cell_type": "markdown",
      "metadata": {
        "id": "leSEZUVYMYB3"
      },
      "source": [
        "### Interlude - JSON\n",
        "\n",
        "The `response.text` is a string. But it's in a format that looks eerily familiar. If you had to guess what would you say this string represents? That is, if you were to read the string as a piece of Python, what kinds of data do you see? What structures is it organized in?\n",
        "\n",
        "The output here looks like a list of lists. It is formatted in something called the JavaScript Object Notation and you can [read about it here.](https://www.json.org/) or see [a tutorial here.](https://restfulapi.net/introduction-to-json/) (just read up to the \"syntax\" part). organizing data in JSON looks a lot like wht we do in Python (with some small exceptions). \n",
        "\n",
        "So in the string above, we see square braces that mean a \"list\" in Python or an \"array\" in JSON. A \"dictionary\" in Python is specified in the same way as an \"object\" in JSON. There are some subtle differences like `None` in Python is `null` in JSON. But let's ignore that for the moment. \n",
        "\n",
        "So what we see is Google providing us data in a format we can use directly in our code. The `requests` library returns an object that not only has the `.text` of the response, but also has a method called `.json()` which parses the JSON and tris to turn it into a python object.\n",
        "\n",
        "Let's make our request again - this time we will work with the Python object that's created."
      ]
    },
    {
      "cell_type": "code",
      "metadata": {
        "id": "vNKM51pRMYB3"
      },
      "source": [
        "url = \"https://www.google.com/complete/search?client=firefox&q=joe is\"\n",
        "response = get(url)\n",
        "\n",
        "# the requests library helps us with JSON. here, we can convert the response (JSON) to a python object\n",
        "data = response.json()\n",
        "\n",
        "# what type of object is it?\n",
        "data"
      ],
      "execution_count": null,
      "outputs": []
    },
    {
      "cell_type": "code",
      "metadata": {
        "id": "DBiL7B--MYB3"
      },
      "source": [
        "print(len(data))"
      ],
      "execution_count": null,
      "outputs": []
    },
    {
      "cell_type": "code",
      "metadata": {
        "id": "252QUwmKMYB4"
      },
      "source": [
        "data[0]"
      ],
      "execution_count": null,
      "outputs": []
    },
    {
      "cell_type": "code",
      "metadata": {
        "id": "TOTW8nL5MYB4"
      },
      "source": [
        "data[1][4]"
      ],
      "execution_count": null,
      "outputs": []
    },
    {
      "cell_type": "code",
      "metadata": {
        "id": "laSmD-8HMYB4"
      },
      "source": [
        "# write some code to pull out the fifth suggestion\n",
        "\n",
        "data[4]"
      ],
      "execution_count": null,
      "outputs": []
    },
    {
      "cell_type": "code",
      "metadata": {
        "id": "yCyP6IWYMYB4"
      },
      "source": [
        "# Try to auto-complete another phrase and look at the results \n",
        "\n"
      ],
      "execution_count": null,
      "outputs": []
    },
    {
      "cell_type": "markdown",
      "metadata": {
        "collapsed": true,
        "id": "h6nKNx_tMYB4"
      },
      "source": [
        "*Technical note.* A URL can't include spaces, but the `requests` package and your browser are now smart enough clean things up before they send it to Google or whatever service you're pulling data from. So adding \"donald trump is\" as the query string is strictly speaking not right, but the environment is making up for the mistake. \n",
        "\n",
        "### A Quick Note on URL Encoding\n",
        "\n",
        "Here, the `requests` library takes our dictionary of URL parameters and properly appends them to our URL. When printing out our \"final\" URL, do you notice the `%2C` in the URL, instead of a `,`? URLs may only contain specific, valid characters (essentially `A-Z`, `a-z`, `0-9`, `-`, `_`, `.`, `~`, and a handful of other characters). Any characters not in the list of valid characters need to be encoded. You can read a bit more on [URL Encoding](https://en.wikipedia.org/wiki/Percent-encoding) but, essentially, any characters not in the valid list are encoded using the `%` character followed by the hexidecimal value of the [ASCII character](https://en.wikipedia.org/wiki/ASCII). In the case of the comma (`,`), it's encoded as: `%2C`. 2C is the hexidecimal value for the comma.\n",
        "\n",
        "### API Authentication\n",
        "\n",
        "The autocomplete from Google is designed to be used widely. We simply made a request and received data. Most API providers, on the other hand, require you as the developer to use a form of authentication while using their APIs. This way they know who's doing what and can impose limits (so that you don't put too much of a drain on their servers, say). There are various forms of authentication: OAuth, API keys and even username and passwords.\n",
        "\n",
        "For example, like [The New York Times](https://developer.nytimes.com/) only require that you use an API key when making API calls. With API keys, you usually just pass the key in your API calls, like:\n",
        "\n",
        "```\n",
        "https://developer.nytimes.com/article_search_v2.json?api_key=abcxyz&q=tesla\n",
        "```\n",
        "\n",
        "[OAuth](https://en.wikipedia.org/wiki/OAuth) is a bit more complicated but provides more fine-grained control for the API service as well as the users. We'll come back to this later when we work with the Twitter APIs (yep, they use OAuth for their API authentication)."
      ]
    },
    {
      "cell_type": "markdown",
      "metadata": {
        "id": "j8eWWUzhBz1E"
      },
      "source": [
        "### The News API, Take 2\n",
        "\n",
        "We can now return to the News API and understand its components. First, the URL that carries the parameters specifying our search as well as our API key."
      ]
    },
    {
      "cell_type": "code",
      "metadata": {
        "id": "erR_WZwjB0Pj"
      },
      "source": [
        "key = \"9b49997ed4274749871f14355ec9cd3f\"\n",
        "\n",
        "query = \"anti-asian\"\n",
        "url = \"https://newsapi.org/v2/everything?q=\"+query+\"&from=2021-04-27&sortBy=publishedAt&apiKey=\"+key\n",
        "\n",
        "url"
      ],
      "execution_count": null,
      "outputs": []
    },
    {
      "cell_type": "markdown",
      "metadata": {
        "id": "8ynm9n3YF2R7"
      },
      "source": [
        "We then used `requests` to fetch or `.get()` the data."
      ]
    },
    {
      "cell_type": "code",
      "metadata": {
        "id": "bOOO_noLB5Zs"
      },
      "source": [
        "from requests import get\n",
        "\n",
        "response = get(url)\n",
        "response.status_code"
      ],
      "execution_count": null,
      "outputs": []
    },
    {
      "cell_type": "markdown",
      "metadata": {
        "id": "0j_F5fzZF8o_"
      },
      "source": [
        "And saw our response as a JSON object, translated into Python's basic data types."
      ]
    },
    {
      "cell_type": "code",
      "metadata": {
        "id": "9pveQ81ZB8tv"
      },
      "source": [
        "news = response.json()\n",
        "\n",
        "news"
      ],
      "execution_count": null,
      "outputs": []
    },
    {
      "cell_type": "markdown",
      "metadata": {
        "id": "STxFHZZXGEER"
      },
      "source": [
        "It's all coming together!"
      ]
    }
  ]
}