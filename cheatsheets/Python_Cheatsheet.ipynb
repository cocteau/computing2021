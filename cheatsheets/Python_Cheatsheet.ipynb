{
 "cells": [
  {
   "cell_type": "markdown",
   "metadata": {},
   "source": [
    "# Python Cheatsheet\n",
    "\n",
    "Welcome to our Python cheatsheet. We will be adding to this over the course of the semester. Feel free to add sections that you feel are helpful.\n",
    "\n",
    "There are other Python Cheatsheets that exist - here is a great one that we took inspiration from: [Python Crash Course](https://ehmatthes.github.io/pcc/cheatsheets/README.html)"
   ]
  },
  {
   "cell_type": "markdown",
   "metadata": {},
   "source": [
    "# Integers and Floating Point Numbers"
   ]
  },
  {
   "cell_type": "code",
   "execution_count": null,
   "metadata": {
    "scrolled": true
   },
   "outputs": [],
   "source": [
    "# create a varible called hours and store the value 8 (an interger)\n",
    "hours = 8\n",
    "\n",
    "# we can print out hours\n",
    "print(hours)\n",
    "\n",
    "# add 2 to hours\n",
    "hours = hours + 2\n",
    "print(hours)\n",
    "\n",
    "# another way of adding 2 to the value stored in hours\n",
    "hours += 2\n",
    "print(hours)\n",
    "\n",
    "# float (floating point numbers)\n",
    "price = 7.99\n",
    "\n",
    "# add 1.00 to price\n",
    "price += 1.00\n",
    "print(price)"
   ]
  },
  {
   "cell_type": "markdown",
   "metadata": {},
   "source": [
    "### Multiplication and Division"
   ]
  },
  {
   "cell_type": "code",
   "execution_count": null,
   "metadata": {
    "collapsed": true,
    "scrolled": true
   },
   "outputs": [],
   "source": [
    "# multiplication\n",
    "print(10*3)\n",
    "\n",
    "# division\n",
    "print(8/2)\n",
    "\n",
    "# 3.3333333333333335\n",
    "print(10/3)\n",
    "\n",
    "# \"//\" will discard the fractional leftovers\n",
    "print(10//3)"
   ]
  },
  {
   "cell_type": "markdown",
   "metadata": {},
   "source": [
    "# Booleans"
   ]
  },
  {
   "cell_type": "code",
   "execution_count": null,
   "metadata": {
    "collapsed": true,
    "scrolled": true
   },
   "outputs": [],
   "source": [
    "# we can store True or False in a variable\n",
    "mike_likes_loops = True\n",
    "\n",
    "mark_likes_loops = False\n",
    "\n",
    "mark_is_on_the_right_side_of_history = True\n",
    "\n",
    "# we'll see how to put these to use below"
   ]
  },
  {
   "cell_type": "markdown",
   "metadata": {},
   "source": [
    "# Strings\n"
   ]
  },
  {
   "cell_type": "code",
   "execution_count": null,
   "metadata": {
    "scrolled": true
   },
   "outputs": [],
   "source": [
    "# create two string variables\n",
    "first_name = \"Mike\"\n",
    "last_name = \"Young\"\n",
    "\n",
    "# we can print the strings\n",
    "print(first_name)\n",
    "print(last_name)\n",
    "\n",
    "# we can combine the two strings together (\"concatinate\")\n",
    "full_name = first_name + \" \" + last_name\n",
    "print(full_name)\n",
    "\n",
    "# get the \"length\" of a string (i.e. the number of characters)\n",
    "number_of_characters = len(first_name)\n",
    "print(number_of_characters)"
   ]
  },
  {
   "cell_type": "code",
   "execution_count": null,
   "metadata": {
    "scrolled": true
   },
   "outputs": [],
   "source": [
    "# if you want to put quotes inside a string\n",
    "# you can either \"escape\" the quotes by putting a \"\\\" in front of each one\n",
    "full_name = \"\\\"Young\\\" Mike Young\"\n",
    "\n",
    "# or you could use single quotes on the outside\n",
    "full_name = '\"Young\" Mike Young'\n",
    "\n",
    "# and likewise if you wanted to use single quotes\n",
    "full_name = '\\'Young\\' Mike Young'\n",
    "\n",
    "# or:\n",
    "full_name = \"'Young' Mike Young\"\n",
    "\n",
    "# or even, the dreaded triple quotes (the backslash tells\n",
    "# Python that your command continues onto the next line)\n",
    "\n",
    "full_name_with_drama = \\\n",
    "\"\"\"The \"young\",\n",
    "    oh so young,\n",
    "         Michael 'Mike' Young\"\"\"\n",
    "\n",
    "# note that we can put any quotes inside the triple\n",
    "# quotes and that when you print it, it keeps all of the\n",
    "# newlines you put in. This triple quote is good for\n",
    "# specifying documentation\n",
    "\n",
    "print(full_name_with_drama)"
   ]
  },
  {
   "cell_type": "markdown",
   "metadata": {},
   "source": [
    "### String Methods\n",
    "\n",
    "https://docs.python.org/3/library/stdtypes.html#string-methods"
   ]
  },
  {
   "cell_type": "code",
   "execution_count": null,
   "metadata": {
    "scrolled": true
   },
   "outputs": [],
   "source": [
    "# \"stripping\" whitespace from the left and right hand side of a string is very helpful\n",
    "# let's create a string variable with a bunch of space on both sides and a \"newline\" at the end\n",
    "full_name_with_messy_whitespace = \"         Mike Young      \\n\"\n",
    "\n",
    "# -> add print statements to see the output of these commands! <-\n",
    "\n",
    "# here, we can strip off the whitespace and \n",
    "# return a \"cleaned up\" version which we store in a new variable\n",
    "cleaned_up_full_name = full_name_with_messy_whitespace.strip()\n",
    "\n",
    "print(cleaned_up_full_name)\n",
    "\n",
    "# make it lower case\n",
    "lower_case_full_name = cleaned_up_full_name.lower()\n",
    "\n",
    "# make it upper case\n",
    "upper_case_full_name = cleaned_up_full_name.upper()"
   ]
  },
  {
   "cell_type": "code",
   "execution_count": null,
   "metadata": {
    "scrolled": true
   },
   "outputs": [],
   "source": [
    "# \"splitting\" a string is a very powerful method\n",
    "# let's split a phone number in to the three parts\n",
    "phone_number = \"212-555-1234\"\n",
    "\n",
    "phone_number_parts = phone_number.split(\"-\")\n",
    "# phone_number_parts is now a list that looks like this:\n",
    "# ['212', '555', '1234']\n",
    "\n",
    "# we can print out \"212\" which is the first element in the list\n",
    "print(\"the area code is \" + phone_number_parts[0])"
   ]
  },
  {
   "cell_type": "code",
   "execution_count": null,
   "metadata": {
    "scrolled": true
   },
   "outputs": [],
   "source": [
    "# accessing parts of strings\n",
    "\n",
    "phone_number = \"212-555-1234\"\n",
    "\n",
    "# we can print out the first character (\"2\") of the string:\n",
    "print(\"first character\" + phone_number[0])\n",
    "\n",
    "# let's say we want to print out the area code\n",
    "# which is just the first three characters of the string phone_number\n",
    "area_code = phone_number[0:3]\n",
    "print(\"the area code is \" + area_code)\n",
    "\n",
    "# and the rest of the phone number (555-1234)\n",
    "number = phone_number[4:12]\n",
    "print(\"the phone number is \" + number)\n",
    "\n",
    "# if we don't know the \"index\" of the last character in the string,\n",
    "# we can just leave that number out and python will do it for us\n",
    "number = phone_number[4:]\n",
    "print(\"the phone number is \" + number)\n",
    "\n",
    "# there is another approach to this problem of splitting the phone number\n",
    "# into area code and the number\n",
    "\n",
    "# we can find the position, or index, of the first \"-\" in the phone_number\n",
    "position_of_first_dash = phone_number.find(\"-\")\n",
    "print(\"where is the dash? \"+str(position_of_first_dash))\n",
    "\n",
    "# let's get just the area code\n",
    "area_code = phone_number[0:position_of_first_dash]\n",
    "# now, let's get the number (without the area code)\n",
    "# two things are happening here:\n",
    "# 1) we take the position of the first dash and add 1. we add 1 because we don't want to include the \"-\"\n",
    "# 2) we don't put anything after the : which means we want to include everything to the end of the string\n",
    "number = phone_number[position_of_first_dash+1:]\n",
    "\n",
    "print(\"area code \"+area_code)\n",
    "print(\"number \"+number)"
   ]
  },
  {
   "cell_type": "markdown",
   "metadata": {},
   "source": [
    "# Lists"
   ]
  },
  {
   "cell_type": "code",
   "execution_count": null,
   "metadata": {
    "collapsed": true,
    "scrolled": true
   },
   "outputs": [],
   "source": [
    "# you can have lists of integers\n",
    "numbers = [1, 17, 99, 314]\n",
    "\n",
    "# you can have lists of floats\n",
    "prices = [0.99, 17.99, 23.95]\n",
    "\n",
    "# you can have lists of strings\n",
    "names = [\"Mike\", \"Emily\", \"Mark\"]\n",
    "\n",
    "# you can have lists of lists!\n",
    "fruits_and_vegetables = [\n",
    "    [\"Apple\", \"Pear\", \"Orange\"],\n",
    "    [\"Broccoli\", \"Carrot\", \"Potato\"]\n",
    "]"
   ]
  },
  {
   "cell_type": "markdown",
   "metadata": {},
   "source": [
    "### Accessing Data in Lists"
   ]
  },
  {
   "cell_type": "code",
   "execution_count": null,
   "metadata": {
    "collapsed": true,
    "scrolled": true
   },
   "outputs": [],
   "source": [
    "# remember that lists are \"0-indexed\"\n",
    "numbers = [1, 17, 99, 314]\n",
    "\n",
    "# access the 1st thing in the list\n",
    "numbers[0]\n",
    "\n",
    "# access the 2nd thing in the list\n",
    "numbers[1]\n",
    "\n",
    "# get the last thing in the list\n",
    "numbers[-1]"
   ]
  },
  {
   "cell_type": "markdown",
   "metadata": {},
   "source": [
    "### Adding, Inserting, Updating Lists"
   ]
  },
  {
   "cell_type": "code",
   "execution_count": null,
   "metadata": {
    "collapsed": true,
    "scrolled": true
   },
   "outputs": [],
   "source": [
    "# we can create an empty list\n",
    "names = []\n",
    "\n",
    "# add three names to the list\n",
    "names.append(\"Mike\")\n",
    "names.append(\"Emily\")\n",
    "names.append(\"Mark\")\n",
    "print(names)\n",
    "\n",
    "# insert elements in to a particular place in a list\n",
    "names.insert(0, \"Fred\")  # this will put \"Fred\" at the beginning of the list\n",
    "names.insert(2, \"Sarah\")  # this will put \"Sarah\" in the 3rd position of the list\n",
    "print(names)\n",
    "\n",
    "# let's update the first name in the list - and change it to \"Michael\"\n",
    "names[0] = \"Michael\"\n",
    "print(names)"
   ]
  },
  {
   "cell_type": "markdown",
   "metadata": {},
   "source": [
    "### Removing Data From a List"
   ]
  },
  {
   "cell_type": "code",
   "execution_count": null,
   "metadata": {
    "collapsed": true,
    "scrolled": true
   },
   "outputs": [],
   "source": [
    "names = [\"Mike\", \"Emily\", \"Mark\"]\n",
    "\n",
    "# remove something by index, or position\n",
    "# this will remove the first item in the list\n",
    "del names[0]\n",
    "\n",
    "# you can also remove an item by it's value\n",
    "# let's remove \"Mark\" from the list\n",
    "names.remove(\"Mark\")\n",
    "\n",
    "print(names)"
   ]
  },
  {
   "cell_type": "markdown",
   "metadata": {},
   "source": [
    "### Lists + Loops"
   ]
  },
  {
   "cell_type": "code",
   "execution_count": null,
   "metadata": {
    "collapsed": true,
    "scrolled": true
   },
   "outputs": [],
   "source": [
    "numbers = [1, 17, 99, 314]\n",
    "\n",
    "# loop through the list\n",
    "for number in numbers:\n",
    "    print(number)\n",
    "    \n",
    "# a slightly more fun list - add up the total\n",
    "total = 0\n",
    "for number in numbers:\n",
    "    total = total + number\n",
    "\n",
    "print(total)"
   ]
  },
  {
   "cell_type": "markdown",
   "metadata": {},
   "source": [
    "### Sorting Lists"
   ]
  },
  {
   "cell_type": "code",
   "execution_count": null,
   "metadata": {
    "collapsed": true,
    "scrolled": true
   },
   "outputs": [],
   "source": [
    "# you can also sort a list!\n",
    "names = [\"Mike\", \"Emily\", \"Mark\", \"Bob\", \"Sarah\"]\n",
    "\n",
    "# sorted() will return a sorted version of the list\n",
    "sorted_names = sorted(names)\n",
    "\n",
    "print(sorted_names)\n",
    "\n",
    "# if you want to sort in reverse order, you can do this:\n",
    "reverse_sorted_names = sorted(names, reverse=True)\n",
    "\n",
    "print(reverse_sorted_names)"
   ]
  },
  {
   "cell_type": "markdown",
   "metadata": {},
   "source": [
    "# Dictionaries\n",
    "\n",
    "[Dictionaries](https://docs.python.org/3/tutorial/datastructures.html#dictionaries) are a very useful data type which allow you to store key / value pairs."
   ]
  },
  {
   "cell_type": "code",
   "execution_count": null,
   "metadata": {
    "collapsed": true,
    "scrolled": true
   },
   "outputs": [],
   "source": [
    "# how to create dictionaries\n",
    "\n",
    "# this is a car\n",
    "car = {\n",
    "    \"make\": \"Jeep\",\n",
    "    \"model\": \"Cherokee\",\n",
    "    \"year\": \"1995\",\n",
    "    \"color\": \"Silver\",\n",
    "    \"miles\": 124978,\n",
    "}\n",
    "\n",
    "# a news article\n",
    "article = {\n",
    "    \"title\": \"The Follower Factory\",\n",
    "    \"link\": \"https://www.nytimes.com/interactive/2018/01/27/technology/social-media-bots.html\",\n",
    "    \"description\": \"Everyone wants to be popular online. Some even pay for it. Inside social media's black market.\",\n",
    "}\n",
    "\n",
    "# an empty dictionary\n",
    "trump = {}"
   ]
  },
  {
   "cell_type": "markdown",
   "metadata": {},
   "source": [
    "### Accessing Data in a Dictionary"
   ]
  },
  {
   "cell_type": "code",
   "execution_count": null,
   "metadata": {
    "collapsed": true,
    "scrolled": true
   },
   "outputs": [],
   "source": [
    "# our car\n",
    "car = {\n",
    "    \"make\": \"Jeep\",\n",
    "    \"model\": \"Cherokee\",\n",
    "    \"year\": \"1995\",\n",
    "    \"color\": \"Silver\",\n",
    "    \"miles\": 124978,\n",
    "}\n",
    "\n",
    "# you can access the \"value\" inside a dictionary by specifying the \"key\" like this:\n",
    "color = car[\"color\"]\n",
    "mileage = car[\"miles\"]\n",
    "\n",
    "print(\"The car's color is \" + car[\"color\"])\n",
    "print(\"The article link is \" + article[\"link\"])\n",
    "\n",
    "# another way to access data in a dictionary is to use the \".get()\" method\n",
    "print(\"The car's color is \" + car.get(\"color\"))\n",
    "\n",
    "# to review: we can use either of these to get the car's \"color\"\n",
    "color = car[\"color\"]\n",
    "color = car.get(\"color\")\n",
    "\n",
    "# the nice thing about using \".get()\" is that we can specify a default value\n",
    "# if the key does not exist in the dictionary. for example:\n",
    "car_owner = car.get(\"owner\", \"The owner is unknown\")"
   ]
  },
  {
   "cell_type": "markdown",
   "metadata": {},
   "source": [
    "### Adding Data to a Dictionary"
   ]
  },
  {
   "cell_type": "code",
   "execution_count": null,
   "metadata": {
    "collapsed": true,
    "scrolled": true
   },
   "outputs": [],
   "source": [
    "# adding a new field to a dicationary\n",
    "car[\"price\"] = 1000.99\n",
    "\n",
    "# modify the dictionary. in this case, change the value of the miles to 130000\n",
    "car[\"miles\"] = 130000\n",
    "\n",
    "print(car)"
   ]
  },
  {
   "cell_type": "markdown",
   "metadata": {},
   "source": [
    "### Removing Data from a Dictionary"
   ]
  },
  {
   "cell_type": "code",
   "execution_count": null,
   "metadata": {
    "collapsed": true,
    "scrolled": true
   },
   "outputs": [],
   "source": [
    "# you can remove a key/value pair from a dictionary\n",
    "\n",
    "# this will remove, or delete, the price from the \"car\" dictionary\n",
    "del car['price']"
   ]
  },
  {
   "cell_type": "markdown",
   "metadata": {},
   "source": [
    "### Dictionaries + Loops"
   ]
  },
  {
   "cell_type": "code",
   "execution_count": null,
   "metadata": {
    "collapsed": true,
    "scrolled": true
   },
   "outputs": [],
   "source": [
    "# looping over a dictionary\n",
    "\n",
    "# we can loop through all of the key and value pairs in the dictionary\n",
    "for key, value in article.items():\n",
    "    print(key + \" -- \" + value)\n",
    "    \n",
    "# if we want to loop through just the keys\n",
    "for key in car.keys():\n",
    "    print(key)\n",
    "\n",
    "# if we want to loop through the values\n",
    "for value in car.values():\n",
    "    print(value)"
   ]
  },
  {
   "cell_type": "markdown",
   "metadata": {},
   "source": [
    "# Nesting - loops and dictionaries!\n",
    "\n",
    "As we've seen in class, nested data structures are common and very powerful. When using APIs, you'll be working with data sets that are nested (lists of lists, list of dictionaries, lists inside dictionaries, etc)."
   ]
  },
  {
   "cell_type": "code",
   "execution_count": null,
   "metadata": {
    "scrolled": true
   },
   "outputs": [],
   "source": [
    "# a list of dictionaries\n",
    "# in this case, a list of cars\n",
    "cars = [\n",
    "    {        \n",
    "        \"make\": \"Jeep\",\n",
    "        \"model\": \"Cherokee\",\n",
    "        \"year\": \"1995\",\n",
    "        \"color\": \"Silver\",\n",
    "    },\n",
    "    {\n",
    "        \"make\": \"Ford\",\n",
    "        \"model\": \"Focus\",\n",
    "        \"year\": \"2007\",\n",
    "        \"color\": \"Red\",\n",
    "    },\n",
    "    {\n",
    "        \"make\": \"Audi\",\n",
    "        \"model\": \"A4\",\n",
    "        \"year\": \"2007\",\n",
    "        \"color\": \"Black\",\n",
    "    },\n",
    "]\n",
    "\n",
    "# get the number of items in this list\n",
    "number_of_cars = len(cars)\n",
    "\n",
    "# print the \"model\" of the 2nd car in the list\n",
    "print(cars[1][\"model\"])\n",
    "\n",
    "# print the \"year\" of the last car in the list\n",
    "print(cars[-1][\"year\"])\n",
    "\n",
    "# lets print the entire list\n",
    "for car in cars:\n",
    "    # \"car\" is a dictionary, so let's loop over each key and value pair in the dictionary\n",
    "    # also, Mark will kill us that we are doing a loop inside a loop! so don't tell him!\n",
    "    for key, value in car.items():\n",
    "        print(key + \" -- \" + value)\n",
    "    print(\"--\")"
   ]
  },
  {
   "cell_type": "code",
   "execution_count": null,
   "metadata": {
    "collapsed": true,
    "scrolled": true
   },
   "outputs": [],
   "source": [
    "# a dictionary of dictionaries!\n",
    "fruits = {\n",
    "    \"avacado\": {\n",
    "        \"kingdom\": \"Plantae\",\n",
    "        \"order\": \"Laurales\",\n",
    "        \"family\": \"Lauraceae\",\n",
    "        \"genus\": \"Persea\",\n",
    "        \"species\": \"P. americana\",\n",
    "    },\n",
    "    \"apple\": {\n",
    "        \"kingdom\": \"Plantae\",\n",
    "        \"order\": \"Rosales\",\n",
    "        \"family\": \"Rosaceae\",\n",
    "        \"genus\": \"Malus\",\n",
    "        \"species\": \"M. pumila\",\n",
    "    }\n",
    "}\n",
    "\n",
    "# how many keys do we have in our list?\n",
    "number_of_fruits = len(fruits)\n",
    "\n",
    "# access the \"apple\" dictionary\n",
    "apple_info = fruits[\"apple\"]\n",
    "\n",
    "# print out the species of the apple\n",
    "print(apple_info[\"species\"])\n",
    "\n",
    "# print the genus of the \"avacado\"\n",
    "print(fruits[\"avacado\"][\"genus\"])"
   ]
  },
  {
   "cell_type": "code",
   "execution_count": null,
   "metadata": {
    "scrolled": true
   },
   "outputs": [],
   "source": [
    "# a list inside a dictionary\n",
    "\n",
    "# back to our news article dictionary\n",
    "# but here we add a list of authors\n",
    "article = {\n",
    "    \"title\": \"The Follower Factory\",\n",
    "    \"link\": \"https://www.nytimes.com/interactive/2018/01/27/technology/social-media-bots.html\",\n",
    "    \"description\": \"Everyone wants to be popular online. Some even pay for it. Inside social media's black market.\",\n",
    "    \"authors\": [\"NICHOLAS CONFESSORE\", \"GABRIEL J.X. DANCE\", \"RICHARD HARRIS\", \"MARK HANSEN\"],\n",
    "}\n",
    "\n",
    "# we can access the authors list like this\n",
    "article_authors = article[\"authors\"]\n",
    "\n",
    "# to loop over the list of authors, printing each one\n",
    "for author_name in article_authors:\n",
    "    print(author_name)"
   ]
  },
  {
   "cell_type": "markdown",
   "metadata": {},
   "source": [
    "# Conditional Tests\n",
    "\n",
    "A conditional test is an expression that can be evaluated as True or False. You will see (below) how these can be used in \"if / else\" statements as well as in \"while\" loops."
   ]
  },
  {
   "cell_type": "code",
   "execution_count": null,
   "metadata": {
    "scrolled": true
   },
   "outputs": [],
   "source": [
    "# greater than\n",
    "print(10 < 20)  # True\n",
    "\n",
    "# greater than or equal to\n",
    "print(20 >= 10)  # True\n",
    "print(20 >= 20)  # True\n",
    "\n",
    "# less than\n",
    "print(20 < 10)  # False\n",
    "\n",
    "# less than or equal to \n",
    "print(20 <= 10)  # False\n",
    "\n",
    "# when checking for equality, we use \"==\"\n",
    "print(10 == 10)  # True\n",
    "print(20 == 10)  # False\n",
    "\n",
    "# are these two \"not equal\"\n",
    "print(10 != 10)  # False\n",
    "print(20 != 10)  # True\n",
    "\n",
    "# string comparisons\n",
    "car = \"Ford\"\n",
    "print(car == \"Ford\")  # True\n",
    "print(car == \"ford\")  # False\n",
    "print(car.lower() == \"ford\")  # True\n",
    "\n",
    "# string - not equal\n",
    "car = \"Ford\"\n",
    "print(car != \"Audi\")  # True\n",
    "print(car != \"Ford\")  # False"
   ]
  },
  {
   "cell_type": "markdown",
   "metadata": {},
   "source": [
    "### Multiple Conditions"
   ]
  },
  {
   "cell_type": "code",
   "execution_count": null,
   "metadata": {
    "scrolled": true
   },
   "outputs": [],
   "source": [
    "price = 10\n",
    "\n",
    "# use the \"and\" statement to ensure both statements are True\n",
    "\n",
    "print(price > 10 and price < 100)  # False\n",
    "\n",
    "print(price > 0 and price < 20)  # True\n",
    "\n",
    "# use the \"or\" statement to ensure either statements are True\n",
    "car = \"Ford\"\n",
    "print(car == \"Ford\" or car == \"Toyota\") # True\n",
    "\n",
    "# we can even combine a few variables\n",
    "print(car == \"Ford\" and price < 100)  # True\n",
    "print(car == \"Toyota\" and price < 100)  # False"
   ]
  },
  {
   "cell_type": "code",
   "execution_count": null,
   "metadata": {
    "scrolled": true
   },
   "outputs": [],
   "source": [
    "# remember booleans?\n",
    "\n",
    "# you can run the statement and save the result in to a variable\n",
    "age = 20\n",
    "can_vote = age >= 18\n",
    "\n",
    "# can_vote will either be True or False and type \"bool\"\n",
    "\n",
    "print(type(can_vote))\n",
    "print(can_vote)"
   ]
  },
  {
   "cell_type": "markdown",
   "metadata": {},
   "source": [
    "# If Statements"
   ]
  },
  {
   "cell_type": "code",
   "execution_count": null,
   "metadata": {
    "scrolled": true
   },
   "outputs": [],
   "source": [
    "# a simple \"if\" statement\n",
    "age = 19\n",
    "if age >= 18:\n",
    "    print(\"yes, you can vote\")\n",
    "\n",
    "\n",
    "# you can use an optional \"else\" block\n",
    "age = 19\n",
    "if age >= 18:\n",
    "    print(\"yes, you can vote\")\n",
    "else:\n",
    "    print(\"sorry, you can't vote yet\")\n",
    "\n",
    "\n",
    "# you can use \"elif\" to do multiple branches\n",
    "# use as many \"elif\" conditions you need (but try not to use too many :-)\n",
    "car = \"Ford\"\n",
    "if car == \"Ford\":\n",
    "    print(\"the car is a Ford\")\n",
    "elif car == \"Audi\":\n",
    "    print(\"the car is an Audi\")\n",
    "elif car == \"Volkswagen\":\n",
    "    print(\"the car is a Volkswagen\")\n",
    "else:\n",
    "    print(\"we have no idea what kind of car it is!\")\n",
    "\n",
    "\n",
    "# another example of using if-elif-else\n",
    "age = 75\n",
    "ticket_price = 0.00\n",
    "if age < 12:\n",
    "    # free tickets for 0-11 year olds\n",
    "    ticket_price = 0.00\n",
    "elif age >= 12 and age < 21:\n",
    "    # $10 for 12-20 year olds\n",
    "    ticket_price = 10.00\n",
    "elif age >= 21 and age < 60:\n",
    "    # $20 for adults! sorry\n",
    "    ticket_price = 20.00\n",
    "elif age >= 60:\n",
    "    # we love you seniors!\n",
    "    ticket_price = 8.00\n",
    "\n",
    "print(\"ticket price is %s\" % (ticket_price))\n"
   ]
  },
  {
   "cell_type": "markdown",
   "metadata": {},
   "source": [
    "### Negation\n"
   ]
  },
  {
   "cell_type": "code",
   "execution_count": null,
   "metadata": {
    "scrolled": true
   },
   "outputs": [],
   "source": [
    "mark_likes_loops = False\n",
    "\n",
    "if mark_likes_loops:\n",
    "    print(\"yes, Mark does like using loops!\")\n",
    "\n",
    "# we can use the \"not\" operator if we want to check to see if something is False\n",
    "if not mark_likes_loops:\n",
    "    print(\"no, Mark definitely does not like loops!\")"
   ]
  },
  {
   "cell_type": "markdown",
   "metadata": {},
   "source": [
    "### Conditionals with Lists"
   ]
  },
  {
   "cell_type": "code",
   "execution_count": null,
   "metadata": {
    "scrolled": true
   },
   "outputs": [],
   "source": [
    "names = [\"Mike\", \"Emily\", \"Mark\"]\n",
    "\n",
    "# check to see if something exists in a list\n",
    "if \"Mike\" in names:\n",
    "    print(\"Yes, Mike is in the list\")\n",
    "\n",
    "name = \"Kim\"\n",
    "if name not in names:\n",
    "    print(name + \" is not in the list\")\n",
    "    \n",
    "# you can also check to see if a list is empty\n",
    "fruits = []\n",
    "\n",
    "if fruits:\n",
    "    print(\"We have some fruits in the list - it is not empty\")\n",
    "else:\n",
    "    print(\"We dont have any fruits!\")\n",
    "\n",
    "# you can run this same code above by making fruits an empty list, like this:\n",
    "# fruits = []"
   ]
  },
  {
   "cell_type": "markdown",
   "metadata": {},
   "source": [
    "### Conditionals with Dictionaries"
   ]
  },
  {
   "cell_type": "code",
   "execution_count": null,
   "metadata": {
    "scrolled": true
   },
   "outputs": [],
   "source": [
    "fruits = {\n",
    "    \"avacado\": {\n",
    "        \"kingdom\": \"Plantae\",\n",
    "        \"order\": \"Laurales\",\n",
    "        \"family\": \"Lauraceae\",\n",
    "        \"genus\": \"Persea\",\n",
    "        \"species\": \"P. americana\",\n",
    "    },\n",
    "    \"apple\": {\n",
    "        \"kingdom\": \"Plantae\",\n",
    "        \"order\": \"Rosales\",\n",
    "        \"family\": \"Rosaceae\",\n",
    "        \"genus\": \"Malus\",\n",
    "        \"species\": \"M. pumila\",\n",
    "    }\n",
    "}\n",
    "\n",
    "# we can use a simple \"in\" to test if a key exists in a dictionary\n",
    "if \"apple\" in fruits:\n",
    "    print(\"yes, we have apple in our dictionary\")\n",
    "    print(fruits[\"apple\"])\n",
    "\n",
    "if \"peach\" in fruits:\n",
    "    print(\"yes, we have peach in our dictionary\")\n",
    "else:\n",
    "    print(\"no peaches - sorry!\")\n",
    "    \n"
   ]
  },
  {
   "cell_type": "markdown",
   "metadata": {},
   "source": [
    "# Loops"
   ]
  },
  {
   "cell_type": "code",
   "execution_count": null,
   "metadata": {
    "scrolled": true
   },
   "outputs": [],
   "source": [
    "# a \"for\" loop can be used to loop over a list\n",
    "names = [\"Mike\", \"Emily\", \"Mark\"]\n",
    "for name in names:\n",
    "    # remember that the code that runs with each iteration of the loop has to be indented\n",
    "    print(name)\n",
    "print(\"done with loop\")"
   ]
  },
  {
   "cell_type": "code",
   "execution_count": null,
   "metadata": {
    "scrolled": true
   },
   "outputs": [],
   "source": [
    "# a \"while\" loop repeats a block of code as long as a certain condition is met\n",
    "count = 0\n",
    "while count < 10:\n",
    "    print(count)\n",
    "    count += 1"
   ]
  },
  {
   "cell_type": "code",
   "execution_count": null,
   "metadata": {
    "collapsed": true,
    "scrolled": true
   },
   "outputs": [],
   "source": [
    "# if we need something to run some code \"forever\"\n",
    "# we can use a \"while\" loop that loops forever or until you stop it\n",
    "# i call this a \"forever loop\"\n",
    "import time\n",
    "\n",
    "while True:\n",
    "    print(\"hi\")\n",
    "    time.sleep(10)  # sleep/pause for 10 seconds\n",
    "\n",
    "# if you run this, you'll need to hit the \"stop\" button in your notebook"
   ]
  },
  {
   "cell_type": "markdown",
   "metadata": {},
   "source": [
    "## Break out of a List\n",
    "\n",
    "Break statements allow us exit out of loops once we meet a specific condition. \n"
   ]
  },
  {
   "cell_type": "code",
   "execution_count": null,
   "metadata": {},
   "outputs": [],
   "source": [
    "#Break comes in handy when we want to stop a loop at a certain point. \n",
    "\n",
    "#here's a list numbers from 0 to 100\n",
    "list = range(101)\n",
    "\n",
    "#we create a for loop as we've done in the past..\n",
    "\n",
    "for number in list:\n",
    "    \n",
    "    #create a boolean conditional..\n",
    "    if number == 25:\n",
    "        \n",
    "        #then call \"break\" to get out of the loop\n",
    "        print(\"out of loop. we made it to '25'\")\n",
    "        break\n",
    "        \n",
    "    #in the meantime, our loop will print out numbers until it meets the criteria we specified above.\n",
    "    print(number)\n",
    "\n"
   ]
  },
  {
   "cell_type": "markdown",
   "metadata": {},
   "source": [
    "#### let's do the same thing but with dictionaries in a list!"
   ]
  },
  {
   "cell_type": "code",
   "execution_count": null,
   "metadata": {},
   "outputs": [],
   "source": [
    "#Here we create a list called \"animals\", because who doesn't like animals? Each item in the list is a dictionary. \n",
    "animals = [\n",
    "        {\"common name\":\"hamster\",\n",
    "        \"kingdom\":\"Animalia\",\n",
    "        \"phylum\":\"Chordata\",\n",
    "        \"class\":\"Mammalia\", \n",
    "        \"order\":\"Rodentia\", \n",
    "        \"family\":\"Criceditae\" \n",
    "        },\n",
    "        {\n",
    "        \"common name\": \"squirell\",\n",
    "        \"kingdom\": \"Animalia\",\n",
    "        \"phylum\": \"Chordata\",\n",
    "        \"class\": \"Mammalia\", \n",
    "        \"order\": \"Rodentia\", \n",
    "        \"family\": \"Sciuridae\"\n",
    "        }, \n",
    "        {\n",
    "        \"common name\": \"rat\",\n",
    "        \"kingdom\": \"Animalia\",\n",
    "        \"phylum\": \"Chodata\", \n",
    "        \"class\": \"Mammalia\",\n",
    "        \"order\": \"Rodentia\",\n",
    "        \"family\": \"Muridae\"\n",
    "        },\n",
    "         {\n",
    "         \"common name\": \"fruit bat\",\n",
    "         \"kingdom\": \"Animalia\", \n",
    "         \"phylum\": \"Chordata\",\n",
    "         \"class\": \"Mammalia\",\n",
    "         \"order\": \"Chiroptera\",\n",
    "         \"family\":\"Megachiroptera\"\n",
    "        }, \n",
    "    \n",
    "    {\n",
    "        \"common name\":\"beaver\",\n",
    "        \"kingdom\": \"Animalia\",\n",
    "        \"phylum\": \"Chordata\", \n",
    "        \"class\": \"Mammalia\", \n",
    "        \"order\": \"Rodentia\",\n",
    "        \"family\": \"Castoridae\"\n",
    "    }\n",
    "]\n",
    "\n",
    "#Here we loop through our list like we did before, and print the order they belong to.  \n",
    "\n",
    "for animal in animals:\n",
    "    print(animal[\"order\"])\n",
    "    \n",
    "print(\"---\")\n",
    "\n",
    "# Coool. Here we looped through each dictionary. \n",
    "# But what if we wanted to stop the loop? \n",
    "# We can use 'break' to find the first animal that doesn't belong in the 'Rodentia' order. \n",
    "\n",
    "for animal in animals: \n",
    "    if animal[\"order\"] != \"Rodentia\":\n",
    "        print(\"Hey, a \" + animal[\"common name\"] + \" isn't a rodent!\")\n",
    "        break\n",
    "        \n",
    "    print(\"A \" + animal[\"common name\"] + \" is a rodent.\")\n",
    "    \n",
    "            \n",
    "    "
   ]
  },
  {
   "cell_type": "code",
   "execution_count": null,
   "metadata": {},
   "outputs": [],
   "source": [
    "# Sweeeeet. Now, what if instead of stopping the loop at something \n",
    "# we're not interested in, we just skip it and continue the loop?\n",
    "\n",
    "for animal in animals:\n",
    "    if animal[\"order\"] != \"Rodentia\":\n",
    "        #use 'continue' to pass over something. \n",
    "        print(\"skipped\")\n",
    "        continue\n",
    "        \n",
    "    print(\"A \" + animal[\"common name\"] + \" is a rodent.\")\n",
    "    \n",
    "\n",
    "print(\"---\")\n",
    "\n",
    "# In the last example we printed 'skipped' to show what was happening.\n",
    "# But it's not necessary...\n",
    "\n",
    "#here's the loop only printing out the rodents in our list. \n",
    "for animal in animals:\n",
    "    if animal[\"order\"] != \"Rodentia\":\n",
    "        continue\n",
    "        \n",
    "    print(\"A \" + animal[\"common name\"] + \" is a rodent.\")"
   ]
  },
  {
   "cell_type": "markdown",
   "metadata": {},
   "source": [
    "# Up Next:\n",
    "\n",
    "We will continue to add to this cheatsheet. Here is list of what's to come:\n",
    "\n",
    "- Modules\n",
    "- Working with Files\n",
    "- Functions\n",
    "- Classes\n",
    "- and so much more!\n"
   ]
  }
 ],
 "metadata": {
  "kernelspec": {
   "display_name": "Python 3",
   "language": "python",
   "name": "python3"
  },
  "language_info": {
   "codemirror_mode": {
    "name": "ipython",
    "version": 3
   },
   "file_extension": ".py",
   "mimetype": "text/x-python",
   "name": "python",
   "nbconvert_exporter": "python",
   "pygments_lexer": "ipython3",
   "version": "3.7.3"
  }
 },
 "nbformat": 4,
 "nbformat_minor": 2
}
